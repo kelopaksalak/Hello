{
  "nbformat": 4,
  "nbformat_minor": 0,
  "metadata": {
    "colab": {
      "name": "FirstLearn.ipynb",
      "provenance": [],
      "authorship_tag": "ABX9TyMkadrtvISeAsfg4jOPSMdF",
      "include_colab_link": true
    },
    "kernelspec": {
      "name": "python3",
      "display_name": "Python 3"
    },
    "language_info": {
      "name": "python"
    }
  },
  "cells": [
    {
      "cell_type": "markdown",
      "metadata": {
        "id": "view-in-github",
        "colab_type": "text"
      },
      "source": [
        "<a href=\"https://colab.research.google.com/github/kelopaksalak/Hello/blob/main/FirstLearn.ipynb\" target=\"_parent\"><img src=\"https://colab.research.google.com/assets/colab-badge.svg\" alt=\"Open In Colab\"/></a>"
      ]
    },
    {
      "cell_type": "code",
      "metadata": {
        "colab": {
          "base_uri": "https://localhost:8080/"
        },
        "id": "VX4JOuw-KU60",
        "outputId": "fc78452b-1d60-4eac-db1a-8d9e99a8fc2f"
      },
      "source": [
        "if 5 > 4 : \n",
        "  print(\"Five is greater than Four\")\n",
        "if 4 < 5 :\n",
        "  print(\"Four is lower than Five\")"
      ],
      "execution_count": null,
      "outputs": [
        {
          "output_type": "stream",
          "text": [
            "Five is greater than Four\n",
            "Four is lower than Five\n"
          ],
          "name": "stdout"
        }
      ]
    },
    {
      "cell_type": "code",
      "metadata": {
        "colab": {
          "base_uri": "https://localhost:8080/"
        },
        "id": "7hkTBrx_cmG7",
        "outputId": "e95372e0-661f-4d99-f998-ec7c1881d8b9"
      },
      "source": [
        "x = 'cool'\n",
        "\n",
        "def myWord():\n",
        "    global x \n",
        "    x = 'cringe'\n",
        "    print(\"Python is \" + x)\n",
        "\n",
        "myWord()\n",
        "\n",
        "print('Python is ' + x)"
      ],
      "execution_count": 8,
      "outputs": [
        {
          "output_type": "stream",
          "text": [
            "Python is cringe\n",
            "Python is cringe\n"
          ],
          "name": "stdout"
        }
      ]
    },
    {
      "cell_type": "code",
      "metadata": {
        "colab": {
          "base_uri": "https://localhost:8080/"
        },
        "id": "6TR80_mpBiTU",
        "outputId": "906d9f52-a097-447f-9e35-18cd0bfac48f"
      },
      "source": [
        "fruits = ['orange','apple','banana']\n",
        "x,y,z=fruits \n",
        "print(x)\n",
        "print(y)\n",
        "print(z)"
      ],
      "execution_count": null,
      "outputs": [
        {
          "output_type": "stream",
          "text": [
            "orange\n",
            "apple\n",
            "banana\n"
          ],
          "name": "stdout"
        }
      ]
    },
    {
      "cell_type": "code",
      "metadata": {
        "colab": {
          "base_uri": "https://localhost:8080/"
        },
        "id": "qRP89cAlULJr",
        "outputId": "a07fdd52-c6e3-4828-e4de-b1fdd523c3b3"
      },
      "source": [
        "x = 5 \n",
        "y = 6 \n",
        "\n",
        "sum = x + y\n",
        "\n",
        "print(float(sum))"
      ],
      "execution_count": null,
      "outputs": [
        {
          "output_type": "stream",
          "text": [
            "11.0\n"
          ],
          "name": "stdout"
        }
      ]
    },
    {
      "cell_type": "code",
      "metadata": {
        "colab": {
          "base_uri": "https://localhost:8080/"
        },
        "id": "eqJ1VJziHX9s",
        "outputId": "4fb26e3c-d5d0-4be8-81a4-2dfda65881f2"
      },
      "source": [
        "a = 6 \n",
        "b = 7\n",
        "c = 'john'\n",
        "d = 'cena'\n",
        "\n",
        "print(int(x + y))\n",
        "print(str(c +\" \"+d))\n"
      ],
      "execution_count": null,
      "outputs": [
        {
          "output_type": "stream",
          "text": [
            "11\n",
            "john cena\n"
          ],
          "name": "stdout"
        }
      ]
    }
  ]
}